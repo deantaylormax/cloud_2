{
 "metadata": {
  "language_info": {
   "codemirror_mode": {
    "name": "ipython",
    "version": 3
   },
   "file_extension": ".py",
   "mimetype": "text/x-python",
   "name": "python",
   "nbconvert_exporter": "python",
   "pygments_lexer": "ipython3",
   "version": "3.9.1"
  },
  "orig_nbformat": 2,
  "kernelspec": {
   "name": "python391jvsc74a57bd0aee8b7b246df8f9039afb4144a1f6fd8d2ca17a180786b69acc140d282b71a49",
   "display_name": "Python 3.9.1 64-bit"
  },
  "metadata": {
   "interpreter": {
    "hash": "aee8b7b246df8f9039afb4144a1f6fd8d2ca17a180786b69acc140d282b71a49"
   }
  }
 },
 "nbformat": 4,
 "nbformat_minor": 2,
 "cells": [
  {
   "cell_type": "code",
   "execution_count": 2,
   "metadata": {},
   "outputs": [
    {
     "output_type": "error",
     "ename": "FileNotFoundError",
     "evalue": "[Errno 2] No such file or directory: 'data/cancer.pkl'",
     "traceback": [
      "\u001b[0;31m---------------------------------------------------------------------------\u001b[0m",
      "\u001b[0;31mFileNotFoundError\u001b[0m                         Traceback (most recent call last)",
      "\u001b[0;32m<ipython-input-2-10711dbf4350>\u001b[0m in \u001b[0;36m<module>\u001b[0;34m\u001b[0m\n\u001b[1;32m      1\u001b[0m \u001b[0;32mimport\u001b[0m \u001b[0mpandas\u001b[0m \u001b[0;32mas\u001b[0m \u001b[0mpd\u001b[0m\u001b[0;34m\u001b[0m\u001b[0;34m\u001b[0m\u001b[0m\n\u001b[1;32m      2\u001b[0m \u001b[0;34m\u001b[0m\u001b[0m\n\u001b[0;32m----> 3\u001b[0;31m \u001b[0mdf\u001b[0m \u001b[0;34m=\u001b[0m \u001b[0mpd\u001b[0m\u001b[0;34m.\u001b[0m\u001b[0mread_pickle\u001b[0m\u001b[0;34m(\u001b[0m\u001b[0;34m\"data/cancer.pkl\"\u001b[0m\u001b[0;34m)\u001b[0m\u001b[0;34m\u001b[0m\u001b[0;34m\u001b[0m\u001b[0m\n\u001b[0m\u001b[1;32m      4\u001b[0m \u001b[0mdf\u001b[0m\u001b[0;34m.\u001b[0m\u001b[0mhead\u001b[0m\u001b[0;34m(\u001b[0m\u001b[0;34m)\u001b[0m\u001b[0;34m\u001b[0m\u001b[0;34m\u001b[0m\u001b[0m\n",
      "\u001b[0;32m/Library/Frameworks/Python.framework/Versions/3.9/lib/python3.9/site-packages/pandas/io/pickle.py\u001b[0m in \u001b[0;36mread_pickle\u001b[0;34m(filepath_or_buffer, compression, storage_options)\u001b[0m\n\u001b[1;32m    183\u001b[0m     \"\"\"\n\u001b[1;32m    184\u001b[0m     \u001b[0mexcs_to_catch\u001b[0m \u001b[0;34m=\u001b[0m \u001b[0;34m(\u001b[0m\u001b[0mAttributeError\u001b[0m\u001b[0;34m,\u001b[0m \u001b[0mImportError\u001b[0m\u001b[0;34m,\u001b[0m \u001b[0mModuleNotFoundError\u001b[0m\u001b[0;34m,\u001b[0m \u001b[0mTypeError\u001b[0m\u001b[0;34m)\u001b[0m\u001b[0;34m\u001b[0m\u001b[0;34m\u001b[0m\u001b[0m\n\u001b[0;32m--> 185\u001b[0;31m     with get_handle(\n\u001b[0m\u001b[1;32m    186\u001b[0m         \u001b[0mfilepath_or_buffer\u001b[0m\u001b[0;34m,\u001b[0m\u001b[0;34m\u001b[0m\u001b[0;34m\u001b[0m\u001b[0m\n\u001b[1;32m    187\u001b[0m         \u001b[0;34m\"rb\"\u001b[0m\u001b[0;34m,\u001b[0m\u001b[0;34m\u001b[0m\u001b[0;34m\u001b[0m\u001b[0m\n",
      "\u001b[0;32m/Library/Frameworks/Python.framework/Versions/3.9/lib/python3.9/site-packages/pandas/io/common.py\u001b[0m in \u001b[0;36mget_handle\u001b[0;34m(path_or_buf, mode, encoding, compression, memory_map, is_text, errors, storage_options)\u001b[0m\n\u001b[1;32m    649\u001b[0m         \u001b[0;32melse\u001b[0m\u001b[0;34m:\u001b[0m\u001b[0;34m\u001b[0m\u001b[0;34m\u001b[0m\u001b[0m\n\u001b[1;32m    650\u001b[0m             \u001b[0;31m# Binary mode\u001b[0m\u001b[0;34m\u001b[0m\u001b[0;34m\u001b[0m\u001b[0;34m\u001b[0m\u001b[0m\n\u001b[0;32m--> 651\u001b[0;31m             \u001b[0mhandle\u001b[0m \u001b[0;34m=\u001b[0m \u001b[0mopen\u001b[0m\u001b[0;34m(\u001b[0m\u001b[0mhandle\u001b[0m\u001b[0;34m,\u001b[0m \u001b[0mioargs\u001b[0m\u001b[0;34m.\u001b[0m\u001b[0mmode\u001b[0m\u001b[0;34m)\u001b[0m\u001b[0;34m\u001b[0m\u001b[0;34m\u001b[0m\u001b[0m\n\u001b[0m\u001b[1;32m    652\u001b[0m         \u001b[0mhandles\u001b[0m\u001b[0;34m.\u001b[0m\u001b[0mappend\u001b[0m\u001b[0;34m(\u001b[0m\u001b[0mhandle\u001b[0m\u001b[0;34m)\u001b[0m\u001b[0;34m\u001b[0m\u001b[0;34m\u001b[0m\u001b[0m\n\u001b[1;32m    653\u001b[0m \u001b[0;34m\u001b[0m\u001b[0m\n",
      "\u001b[0;31mFileNotFoundError\u001b[0m: [Errno 2] No such file or directory: 'data/cancer.pkl'"
     ]
    }
   ],
   "source": [
    "import pandas as pd \n",
    "\n",
    "df = pd.read_pickle(\"data/cancer.pkl\")\n",
    "df.head()"
   ]
  },
  {
   "cell_type": "code",
   "execution_count": 3,
   "metadata": {},
   "outputs": [
    {
     "output_type": "stream",
     "name": "stdout",
     "text": [
      "<class 'pandas.core.frame.DataFrame'>\nInt64Index: 510263 entries, 0 to 124255\nData columns (total 14 columns):\n #   Column                   Non-Null Count   Dtype         \n---  ------                   --------------   -----         \n 0   SubjectId                510263 non-null  int64         \n 1   Firm                     510263 non-null  object        \n 2   Cancer_Type              510263 non-null  object        \n 3   retailer                 206288 non-null  object        \n 4   diagnosis_date           510173 non-null  datetime64[ns]\n 5   birth_year               510263 non-null  int64         \n 6   first_use_year           510263 non-null  int64         \n 7   last_use_year            510263 non-null  int16         \n 8   deceased                 510026 non-null  category      \n 9   age                      510263 non-null  int16         \n 10  total_use_years          510263 non-null  int16         \n 11  age_first_use            510263 non-null  int16         \n 12  first_use_to_diag_years  510247 non-null  float64       \n 13  last_use_to_diag_years   510247 non-null  float64       \ndtypes: category(1), datetime64[ns](1), float64(2), int16(4), int64(3), object(3)\nmemory usage: 43.3+ MB\n"
     ]
    }
   ],
   "source": [
    "df.info()"
   ]
  },
  {
   "cell_type": "code",
   "execution_count": 4,
   "metadata": {},
   "outputs": [],
   "source": [
    "cat_lst = ['Firm', 'Cancer_Type', 'retailer']\n",
    "for i in cat_lst:\n",
    "    df[i] = df[i].astype('category')"
   ]
  },
  {
   "cell_type": "code",
   "execution_count": 5,
   "metadata": {},
   "outputs": [
    {
     "output_type": "stream",
     "name": "stdout",
     "text": [
      "<class 'pandas.core.frame.DataFrame'>\nInt64Index: 510263 entries, 0 to 124255\nData columns (total 14 columns):\n #   Column                   Non-Null Count   Dtype         \n---  ------                   --------------   -----         \n 0   SubjectId                510263 non-null  int64         \n 1   Firm                     510263 non-null  category      \n 2   Cancer_Type              510263 non-null  category      \n 3   retailer                 206288 non-null  category      \n 4   diagnosis_date           510173 non-null  datetime64[ns]\n 5   birth_year               510263 non-null  int64         \n 6   first_use_year           510263 non-null  int64         \n 7   last_use_year            510263 non-null  int16         \n 8   deceased                 510026 non-null  category      \n 9   age                      510263 non-null  int16         \n 10  total_use_years          510263 non-null  int16         \n 11  age_first_use            510263 non-null  int16         \n 12  first_use_to_diag_years  510247 non-null  float64       \n 13  last_use_to_diag_years   510247 non-null  float64       \ndtypes: category(4), datetime64[ns](1), float64(2), int16(4), int64(3)\nmemory usage: 41.7 MB\n"
     ]
    }
   ],
   "source": [
    "df.info()"
   ]
  },
  {
   "cell_type": "code",
   "execution_count": 22,
   "metadata": {},
   "outputs": [
    {
     "output_type": "execute_result",
     "data": {
      "text/plain": [
       "Index                      12536288\n",
       "SubjectId                   4082104\n",
       "Firm                        1030902\n",
       "Cancer_Type                  511003\n",
       "retailer                     510971\n",
       "diagnosis_date              4082104\n",
       "birth_year                  1020526\n",
       "first_use_year              1020526\n",
       "last_use_year               1020526\n",
       "deceased                     510387\n",
       "age                          510263\n",
       "total_use_years              510263\n",
       "age_first_use                510263\n",
       "first_use_to_diag_years     4082104\n",
       "last_use_to_diag_years      4082104\n",
       "dtype: int64"
      ]
     },
     "metadata": {},
     "execution_count": 22
    }
   ],
   "source": [
    "df.memory_usage()"
   ]
  },
  {
   "cell_type": "code",
   "execution_count": 12,
   "metadata": {},
   "outputs": [
    {
     "output_type": "execute_result",
     "data": {
      "text/plain": [
       " 3.0       24866\n",
       " 4.0       23748\n",
       " 2.0       23264\n",
       " 5.0       22226\n",
       " 10.0      20965\n",
       "           ...  \n",
       " 1997.0        1\n",
       " 1993.0        1\n",
       " 58.0          1\n",
       " 1999.0        1\n",
       "-184.0         1\n",
       "Name: first_use_to_diag_years, Length: 150, dtype: int64"
      ]
     },
     "metadata": {},
     "execution_count": 12
    }
   ],
   "source": [
    "df['first_use_to_diag_years'].value_counts()"
   ]
  },
  {
   "cell_type": "code",
   "execution_count": 30,
   "metadata": {},
   "outputs": [],
   "source": [
    "df.first_use_to_diag_years.fillna(0, inplace=True)\n",
    "df.last_use_to_diag_years.fillna(0, inplace=True)\n"
   ]
  },
  {
   "cell_type": "code",
   "execution_count": 31,
   "metadata": {},
   "outputs": [],
   "source": [
    "int8_lst = ['first_use_to_diag_years', 'last_use_to_diag_years']\n",
    "for i in int8_lst:\n",
    "    df[i] = df[i].astype('int8')\n",
    "    # df[i].fillna(0)"
   ]
  },
  {
   "cell_type": "code",
   "execution_count": 32,
   "metadata": {},
   "outputs": [
    {
     "output_type": "stream",
     "name": "stdout",
     "text": [
      "<class 'pandas.core.frame.DataFrame'>\nInt64Index: 510263 entries, 0 to 124255\nData columns (total 14 columns):\n #   Column                   Non-Null Count   Dtype         \n---  ------                   --------------   -----         \n 0   SubjectId                510263 non-null  object        \n 1   Firm                     510263 non-null  category      \n 2   Cancer_Type              510263 non-null  category      \n 3   retailer                 206288 non-null  category      \n 4   diagnosis_date           510173 non-null  datetime64[ns]\n 5   birth_year               510263 non-null  int16         \n 6   first_use_year           510263 non-null  int16         \n 7   last_use_year            510263 non-null  int16         \n 8   deceased                 510026 non-null  category      \n 9   age                      510263 non-null  int8          \n 10  total_use_years          510263 non-null  int8          \n 11  age_first_use            510263 non-null  int8          \n 12  first_use_to_diag_years  510263 non-null  int8          \n 13  last_use_to_diag_years   510263 non-null  int8          \ndtypes: category(4), datetime64[ns](1), int16(3), int8(5), object(1)\nmemory usage: 27.5+ MB\n"
     ]
    }
   ],
   "source": [
    "df.info()"
   ]
  },
  {
   "cell_type": "code",
   "execution_count": 47,
   "metadata": {},
   "outputs": [],
   "source": [
    "df.to_pickle(\"data/cancer.pkl\")"
   ]
  },
  {
   "cell_type": "code",
   "execution_count": 48,
   "metadata": {},
   "outputs": [],
   "source": [
    "import feather\n",
    "df.reset_index().to_feather(\"data/cancer.ftr\")"
   ]
  },
  {
   "cell_type": "code",
   "execution_count": 51,
   "metadata": {},
   "outputs": [],
   "source": [
    "feather_test = pd.read_feather(\"data/cancer.ftr\", columns=None).set_index(['SubjectId'])\n",
    "feather_test.drop(columns=['index'], inplace=True)"
   ]
  },
  {
   "source": [
    "# Reducing memory size of the master usage file\n"
   ],
   "cell_type": "markdown",
   "metadata": {}
  },
  {
   "cell_type": "code",
   "execution_count": 119,
   "metadata": {},
   "outputs": [],
   "source": [
    "df = pd.read_pickle(\"data/master_usage.pkl\")\n",
    "# df.head()"
   ]
  },
  {
   "cell_type": "code",
   "execution_count": 121,
   "metadata": {},
   "outputs": [],
   "source": [
    "df.deceased = df.deceased.astype('str')\n",
    "df.deceased.fillna('none', inplace=True)\n",
    "df.state_cur_ab = df.state_cur_ab.astype('str').fillna('none').astype('category')\n",
    "df.state_use_ab = df.state_use_ab.astype('str').fillna('none').astype('category')"
   ]
  },
  {
   "cell_type": "code",
   "execution_count": 122,
   "metadata": {},
   "outputs": [],
   "source": [
    "cat_lst = ['Firm', 'admin_method', 'state_cur_ab', 'state_use_ab', 'retailers', 'deceased']\n",
    "for i in cat_lst:\n",
    "    df[i] = df[i].astype('category')"
   ]
  },
  {
   "cell_type": "code",
   "execution_count": 126,
   "metadata": {},
   "outputs": [
    {
     "output_type": "stream",
     "name": "stdout",
     "text": [
      "<class 'pandas.core.frame.DataFrame'>\nInt64Index: 191144 entries, 0 to 191206\nData columns (total 16 columns):\n #   Column           Non-Null Count   Dtype   \n---  ------           --------------   -----   \n 0   SubjectId        191144 non-null  int64   \n 1   Firm             191144 non-null  category\n 2   deceased         191144 non-null  category\n 3   age              191144 non-null  int8    \n 4   total_use_years  191144 non-null  int8    \n 5   age_first_use    191144 non-null  int8    \n 6   formulation      191144 non-null  category\n 7   use_years        191144 non-null  object  \n 8   start_yr         191144 non-null  int16   \n 9   end_yr           191144 non-null  int16   \n 10  use_years_lst    191144 non-null  object  \n 11  dosage           191144 non-null  object  \n 12  admin_method     191144 non-null  category\n 13  state_cur_ab     191144 non-null  category\n 14  state_use_ab     191144 non-null  category\n 15  retailers        191144 non-null  category\ndtypes: category(7), int16(2), int64(1), int8(3), object(3)\nmemory usage: 15.9+ MB\n"
     ]
    }
   ],
   "source": [
    "df.info()"
   ]
  },
  {
   "cell_type": "code",
   "execution_count": 124,
   "metadata": {},
   "outputs": [],
   "source": [
    "cat_lst = ['Firm', 'formulation', 'retailers', 'state_cur_ab', 'state_use_ab', 'admin_method']\n",
    "for i in cat_lst:\n",
    "    df[i] = df[i].astype('category')"
   ]
  },
  {
   "cell_type": "code",
   "execution_count": 125,
   "metadata": {},
   "outputs": [],
   "source": [
    "int8_lst = ['age', 'total_use_years', 'age_first_use']\n",
    "for i in int8_lst:\n",
    "    df[i] = df[i].astype('int8')\n",
    "int16_lst = ['start_yr', 'end_yr']\n",
    "for i in int16_lst:\n",
    "    df[i] = df[i].astype('int16')"
   ]
  },
  {
   "cell_type": "code",
   "execution_count": 127,
   "metadata": {},
   "outputs": [],
   "source": [
    "df = df[df['deceased'] != \"\"]"
   ]
  },
  {
   "cell_type": "code",
   "execution_count": 128,
   "metadata": {},
   "outputs": [],
   "source": [
    "df.to_pickle(\"data/master_usage.pkl\")"
   ]
  },
  {
   "cell_type": "code",
   "execution_count": 129,
   "metadata": {},
   "outputs": [],
   "source": [
    "df.reset_index().to_feather(\"data/master_usage.ftr\")"
   ]
  },
  {
   "source": [
    "# reducing the prod_data pickle file"
   ],
   "cell_type": "markdown",
   "metadata": {}
  },
  {
   "cell_type": "code",
   "execution_count": 136,
   "metadata": {},
   "outputs": [
    {
     "output_type": "stream",
     "name": "stdout",
     "text": [
      "<class 'pandas.core.frame.DataFrame'>\nInt64Index: 2199349 entries, 0 to 2199348\nData columns (total 9 columns):\n #   Column           Dtype   \n---  ------           -----   \n 0   SubjectId        int64   \n 1   Firm             category\n 2   deceased         category\n 3   age              int8    \n 4   total_use_years  int8    \n 5   age_first_use    int8    \n 6   Product_Type     category\n 7   Year             int16   \n 8   tot_use_years    int16   \ndtypes: category(3), int16(2), int64(1), int8(3)\nmemory usage: 56.6 MB\n"
     ]
    }
   ],
   "source": [
    "df = pd.read_pickle(\"data/prod_data.pkl\")\n",
    "df.Firm = df.Firm.astype('category')\n",
    "df.info()"
   ]
  },
  {
   "cell_type": "code",
   "execution_count": 137,
   "metadata": {},
   "outputs": [],
   "source": [
    "df.reset_index().to_feather(\"data/prod_data.ftr\")"
   ]
  },
  {
   "cell_type": "code",
   "execution_count": 138,
   "metadata": {},
   "outputs": [
    {
     "output_type": "execute_result",
     "data": {
      "text/plain": [
       "  SubjectId deceased                formulation use_years  dosage admin_method\n",
       "0    437338   Living  Zantac Tablets & Capsules      1994   Other          OTC\n",
       "0    437338   Living  Zantac Tablets & Capsules      2020   Other          OTC\n",
       "1    437339   Living  Zantac Tablets & Capsules      1998  150_mg         Both\n",
       "1    437339   Living  Zantac Tablets & Capsules      2015  150_mg         Both\n",
       "2    437339   Living  Zantac Tablets & Capsules      1998  150_mg         Both"
      ],
      "text/html": "<div>\n<style scoped>\n    .dataframe tbody tr th:only-of-type {\n        vertical-align: middle;\n    }\n\n    .dataframe tbody tr th {\n        vertical-align: top;\n    }\n\n    .dataframe thead th {\n        text-align: right;\n    }\n</style>\n<table border=\"1\" class=\"dataframe\">\n  <thead>\n    <tr style=\"text-align: right;\">\n      <th></th>\n      <th>SubjectId</th>\n      <th>deceased</th>\n      <th>formulation</th>\n      <th>use_years</th>\n      <th>dosage</th>\n      <th>admin_method</th>\n    </tr>\n  </thead>\n  <tbody>\n    <tr>\n      <th>0</th>\n      <td>437338</td>\n      <td>Living</td>\n      <td>Zantac Tablets &amp; Capsules</td>\n      <td>1994</td>\n      <td>Other</td>\n      <td>OTC</td>\n    </tr>\n    <tr>\n      <th>0</th>\n      <td>437338</td>\n      <td>Living</td>\n      <td>Zantac Tablets &amp; Capsules</td>\n      <td>2020</td>\n      <td>Other</td>\n      <td>OTC</td>\n    </tr>\n    <tr>\n      <th>1</th>\n      <td>437339</td>\n      <td>Living</td>\n      <td>Zantac Tablets &amp; Capsules</td>\n      <td>1998</td>\n      <td>150_mg</td>\n      <td>Both</td>\n    </tr>\n    <tr>\n      <th>1</th>\n      <td>437339</td>\n      <td>Living</td>\n      <td>Zantac Tablets &amp; Capsules</td>\n      <td>2015</td>\n      <td>150_mg</td>\n      <td>Both</td>\n    </tr>\n    <tr>\n      <th>2</th>\n      <td>437339</td>\n      <td>Living</td>\n      <td>Zantac Tablets &amp; Capsules</td>\n      <td>1998</td>\n      <td>150_mg</td>\n      <td>Both</td>\n    </tr>\n  </tbody>\n</table>\n</div>"
     },
     "metadata": {},
     "execution_count": 138
    }
   ],
   "source": [
    "# Reducing use over time pickle\n",
    "df= pd.read_pickle(\"/Users/johntaylor/cloud_upload/data/use_over_time.pkl\")\n",
    "df.head()"
   ]
  },
  {
   "cell_type": "code",
   "execution_count": 141,
   "metadata": {},
   "outputs": [
    {
     "output_type": "stream",
     "name": "stdout",
     "text": [
      "<class 'pandas.core.frame.DataFrame'>\nInt64Index: 380677 entries, 0 to 190825\nData columns (total 6 columns):\n #   Column        Non-Null Count   Dtype   \n---  ------        --------------   -----   \n 0   SubjectId     380677 non-null  object  \n 1   deceased      380573 non-null  category\n 2   formulation   380677 non-null  category\n 3   use_years     380677 non-null  int16   \n 4   dosage        380677 non-null  object  \n 5   admin_method  380677 non-null  category\ndtypes: category(3), int16(1), object(2)\nmemory usage: 18.6+ MB\n"
     ]
    }
   ],
   "source": [
    "df.info()"
   ]
  },
  {
   "cell_type": "code",
   "execution_count": 140,
   "metadata": {},
   "outputs": [],
   "source": [
    "df.use_years = df.use_years.astype('int16')"
   ]
  },
  {
   "cell_type": "code",
   "execution_count": 142,
   "metadata": {},
   "outputs": [],
   "source": [
    "df.reset_index().to_feather(\"data/use_over_time.ftr\")"
   ]
  },
  {
   "cell_type": "code",
   "execution_count": 145,
   "metadata": {},
   "outputs": [
    {
     "output_type": "execute_result",
     "data": {
      "text/plain": [
       "  SubjectId deceased                formulation  use_years  dosage  \\\n",
       "0    437338   Living  Zantac Tablets & Capsules       1994   Other   \n",
       "1    437338   Living  Zantac Tablets & Capsules       2020   Other   \n",
       "2    437339   Living  Zantac Tablets & Capsules       1998  150_mg   \n",
       "3    437339   Living  Zantac Tablets & Capsules       2015  150_mg   \n",
       "4    437339   Living  Zantac Tablets & Capsules       1998  150_mg   \n",
       "\n",
       "  admin_method  \n",
       "0          OTC  \n",
       "1          OTC  \n",
       "2         Both  \n",
       "3         Both  \n",
       "4         Both  "
      ],
      "text/html": "<div>\n<style scoped>\n    .dataframe tbody tr th:only-of-type {\n        vertical-align: middle;\n    }\n\n    .dataframe tbody tr th {\n        vertical-align: top;\n    }\n\n    .dataframe thead th {\n        text-align: right;\n    }\n</style>\n<table border=\"1\" class=\"dataframe\">\n  <thead>\n    <tr style=\"text-align: right;\">\n      <th></th>\n      <th>SubjectId</th>\n      <th>deceased</th>\n      <th>formulation</th>\n      <th>use_years</th>\n      <th>dosage</th>\n      <th>admin_method</th>\n    </tr>\n  </thead>\n  <tbody>\n    <tr>\n      <th>0</th>\n      <td>437338</td>\n      <td>Living</td>\n      <td>Zantac Tablets &amp; Capsules</td>\n      <td>1994</td>\n      <td>Other</td>\n      <td>OTC</td>\n    </tr>\n    <tr>\n      <th>1</th>\n      <td>437338</td>\n      <td>Living</td>\n      <td>Zantac Tablets &amp; Capsules</td>\n      <td>2020</td>\n      <td>Other</td>\n      <td>OTC</td>\n    </tr>\n    <tr>\n      <th>2</th>\n      <td>437339</td>\n      <td>Living</td>\n      <td>Zantac Tablets &amp; Capsules</td>\n      <td>1998</td>\n      <td>150_mg</td>\n      <td>Both</td>\n    </tr>\n    <tr>\n      <th>3</th>\n      <td>437339</td>\n      <td>Living</td>\n      <td>Zantac Tablets &amp; Capsules</td>\n      <td>2015</td>\n      <td>150_mg</td>\n      <td>Both</td>\n    </tr>\n    <tr>\n      <th>4</th>\n      <td>437339</td>\n      <td>Living</td>\n      <td>Zantac Tablets &amp; Capsules</td>\n      <td>1998</td>\n      <td>150_mg</td>\n      <td>Both</td>\n    </tr>\n  </tbody>\n</table>\n</div>"
     },
     "metadata": {},
     "execution_count": 145
    }
   ],
   "source": [
    "df = pd.read_feather(\"data/use_over_time.ftr\", columns=None).set_index(['SubjectId'])\n",
    "df.drop(columns=['index'], inplace=True)\n",
    "df.reset_index(inplace=True)\n",
    "df.head()"
   ]
  },
  {
   "source": [
    "### Fixing the formulation names in the usage over time feather file"
   ],
   "cell_type": "markdown",
   "metadata": {}
  },
  {
   "cell_type": "code",
   "execution_count": 3,
   "metadata": {},
   "outputs": [
    {
     "output_type": "execute_result",
     "data": {
      "text/plain": [
       "          deceased                formulation  use_years  dosage admin_method\n",
       "SubjectId                                                                    \n",
       "437338      Living  Zantac Tablets & Capsules       1994   Other          OTC\n",
       "437338      Living  Zantac Tablets & Capsules       2020   Other          OTC\n",
       "437339      Living  Zantac Tablets & Capsules       1998  150_mg         Both\n",
       "437339      Living  Zantac Tablets & Capsules       2015  150_mg         Both\n",
       "437339      Living  Zantac Tablets & Capsules       1998  150_mg         Both"
      ],
      "text/html": "<div>\n<style scoped>\n    .dataframe tbody tr th:only-of-type {\n        vertical-align: middle;\n    }\n\n    .dataframe tbody tr th {\n        vertical-align: top;\n    }\n\n    .dataframe thead th {\n        text-align: right;\n    }\n</style>\n<table border=\"1\" class=\"dataframe\">\n  <thead>\n    <tr style=\"text-align: right;\">\n      <th></th>\n      <th>deceased</th>\n      <th>formulation</th>\n      <th>use_years</th>\n      <th>dosage</th>\n      <th>admin_method</th>\n    </tr>\n    <tr>\n      <th>SubjectId</th>\n      <th></th>\n      <th></th>\n      <th></th>\n      <th></th>\n      <th></th>\n    </tr>\n  </thead>\n  <tbody>\n    <tr>\n      <th>437338</th>\n      <td>Living</td>\n      <td>Zantac Tablets &amp; Capsules</td>\n      <td>1994</td>\n      <td>Other</td>\n      <td>OTC</td>\n    </tr>\n    <tr>\n      <th>437338</th>\n      <td>Living</td>\n      <td>Zantac Tablets &amp; Capsules</td>\n      <td>2020</td>\n      <td>Other</td>\n      <td>OTC</td>\n    </tr>\n    <tr>\n      <th>437339</th>\n      <td>Living</td>\n      <td>Zantac Tablets &amp; Capsules</td>\n      <td>1998</td>\n      <td>150_mg</td>\n      <td>Both</td>\n    </tr>\n    <tr>\n      <th>437339</th>\n      <td>Living</td>\n      <td>Zantac Tablets &amp; Capsules</td>\n      <td>2015</td>\n      <td>150_mg</td>\n      <td>Both</td>\n    </tr>\n    <tr>\n      <th>437339</th>\n      <td>Living</td>\n      <td>Zantac Tablets &amp; Capsules</td>\n      <td>1998</td>\n      <td>150_mg</td>\n      <td>Both</td>\n    </tr>\n  </tbody>\n</table>\n</div>"
     },
     "metadata": {},
     "execution_count": 3
    }
   ],
   "source": [
    "df = pd.read_feather(\"data/use_over_time.ftr\", columns=None).set_index(['SubjectId'])\n",
    "df.drop(columns=['index'], inplace=True)\n",
    "df.head()"
   ]
  },
  {
   "cell_type": "code",
   "execution_count": 5,
   "metadata": {},
   "outputs": [
    {
     "output_type": "execute_result",
     "data": {
      "text/plain": [
       "['Zantac Syrup',\n",
       " 'Other',\n",
       " 'Zantac Tablets & Capsules',\n",
       " 'Ranitidine Tablets & Capsules',\n",
       " 'Ranitidine Suspension',\n",
       " 'Ranitidine Syrup',\n",
       " 'Zantac Injection',\n",
       " 'Ranitidine Injection']"
      ]
     },
     "metadata": {},
     "execution_count": 5
    }
   ],
   "source": [
    "form_lst = list(set(df.formulation))\n",
    "form_lst"
   ]
  },
  {
   "cell_type": "code",
   "execution_count": 6,
   "metadata": {},
   "outputs": [],
   "source": [
    "new_form_lst = ['Candy Bar', 'Flagyl','Flu Shot','Gummie Bears','Ibuprofen','Levothyroxine','Metronidazole','Tylenol']\n",
    "\n",
    "form_dict = dict(zip(form_lst, new_form_lst))"
   ]
  },
  {
   "cell_type": "code",
   "execution_count": 7,
   "metadata": {},
   "outputs": [],
   "source": [
    "df.formulation = df.formulation.map(form_dict)"
   ]
  },
  {
   "cell_type": "code",
   "execution_count": 10,
   "metadata": {},
   "outputs": [],
   "source": [
    "admin_lst = list(set(df.admin_method))\n",
    "new_admins = ['friend', 'neighbor', 'doctor']\n",
    "admin_dict = dict(zip(admin_lst, new_admins))\n",
    "df.admin_method = df.admin_method.map(admin_dict)\n"
   ]
  },
  {
   "cell_type": "code",
   "execution_count": 11,
   "metadata": {},
   "outputs": [
    {
     "output_type": "execute_result",
     "data": {
      "text/plain": [
       "          deceased formulation  use_years  dosage admin_method\n",
       "SubjectId                                                     \n",
       "437338      Living    Flu Shot       1994   Other       doctor\n",
       "437338      Living    Flu Shot       2020   Other       doctor\n",
       "437339      Living    Flu Shot       1998  150_mg       friend\n",
       "437339      Living    Flu Shot       2015  150_mg       friend\n",
       "437339      Living    Flu Shot       1998  150_mg       friend"
      ],
      "text/html": "<div>\n<style scoped>\n    .dataframe tbody tr th:only-of-type {\n        vertical-align: middle;\n    }\n\n    .dataframe tbody tr th {\n        vertical-align: top;\n    }\n\n    .dataframe thead th {\n        text-align: right;\n    }\n</style>\n<table border=\"1\" class=\"dataframe\">\n  <thead>\n    <tr style=\"text-align: right;\">\n      <th></th>\n      <th>deceased</th>\n      <th>formulation</th>\n      <th>use_years</th>\n      <th>dosage</th>\n      <th>admin_method</th>\n    </tr>\n    <tr>\n      <th>SubjectId</th>\n      <th></th>\n      <th></th>\n      <th></th>\n      <th></th>\n      <th></th>\n    </tr>\n  </thead>\n  <tbody>\n    <tr>\n      <th>437338</th>\n      <td>Living</td>\n      <td>Flu Shot</td>\n      <td>1994</td>\n      <td>Other</td>\n      <td>doctor</td>\n    </tr>\n    <tr>\n      <th>437338</th>\n      <td>Living</td>\n      <td>Flu Shot</td>\n      <td>2020</td>\n      <td>Other</td>\n      <td>doctor</td>\n    </tr>\n    <tr>\n      <th>437339</th>\n      <td>Living</td>\n      <td>Flu Shot</td>\n      <td>1998</td>\n      <td>150_mg</td>\n      <td>friend</td>\n    </tr>\n    <tr>\n      <th>437339</th>\n      <td>Living</td>\n      <td>Flu Shot</td>\n      <td>2015</td>\n      <td>150_mg</td>\n      <td>friend</td>\n    </tr>\n    <tr>\n      <th>437339</th>\n      <td>Living</td>\n      <td>Flu Shot</td>\n      <td>1998</td>\n      <td>150_mg</td>\n      <td>friend</td>\n    </tr>\n  </tbody>\n</table>\n</div>"
     },
     "metadata": {},
     "execution_count": 11
    }
   ],
   "source": [
    "df.head()"
   ]
  },
  {
   "cell_type": "code",
   "execution_count": null,
   "metadata": {},
   "outputs": [],
   "source": []
  }
 ]
}