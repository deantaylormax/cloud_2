{
 "metadata": {
  "language_info": {
   "codemirror_mode": {
    "name": "ipython",
    "version": 3
   },
   "file_extension": ".py",
   "mimetype": "text/x-python",
   "name": "python",
   "nbconvert_exporter": "python",
   "pygments_lexer": "ipython3",
   "version": "3.9.1"
  },
  "orig_nbformat": 2,
  "kernelspec": {
   "name": "python391jvsc74a57bd0aee8b7b246df8f9039afb4144a1f6fd8d2ca17a180786b69acc140d282b71a49",
   "display_name": "Python 3.9.1 64-bit"
  },
  "metadata": {
   "interpreter": {
    "hash": "aee8b7b246df8f9039afb4144a1f6fd8d2ca17a180786b69acc140d282b71a49"
   }
  }
 },
 "nbformat": 4,
 "nbformat_minor": 2,
 "cells": [
  {
   "cell_type": "code",
   "execution_count": 30,
   "metadata": {},
   "outputs": [],
   "source": [
    "import pandas as pd \n",
    "\n",
    "feather_lst = ['cancer', 'master_usage', 'prod_data', 'use_over_time']\n",
    "for file in feather_lst:\n",
    "    df=pd.read_feather(\"data/\" + file + \".ftr\")\n",
    "    df['SubjectId'] = df['SubjectId'].astype('int') + 489\n",
    "    df['SubjectId'] = df['SubjectId'].astype('str')\n",
    "    try:\n",
    "        df.drop(columns=['index'], inplace=True)\n",
    "    except:\n",
    "        pass\n",
    "    df.to_feather(\"data/\" + file + \".ftr\")"
   ]
  },
  {
   "cell_type": "code",
   "execution_count": 22,
   "metadata": {},
   "outputs": [
    {
     "output_type": "execute_result",
     "data": {
      "text/plain": [
       "   index  SubjectId                         Firm Cancer_Type         retailer  \\\n",
       "0      0     803046  Moreno, Johnson and Cochran    Prostate          Walmart   \n",
       "1      1     370364  Moreno, Johnson and Cochran      Breast          Walmart   \n",
       "2      1     370364  Moreno, Johnson and Cochran      Breast  Medicine_Shoppe   \n",
       "\n",
       "  diagnosis_date  birth_year  first_use_year  last_use_year deceased  age  \\\n",
       "0     2009-05-21        1930            1994           2020   Living   73   \n",
       "1     1995-04-05        1918            1998           2015   Living   52   \n",
       "2     1995-04-05        1918            1998           2015   Living   52   \n",
       "\n",
       "   total_use_years  age_first_use  first_use_to_diag_years  \\\n",
       "0               26             47                       23   \n",
       "1               17             29                       20   \n",
       "2               17             29                       20   \n",
       "\n",
       "   last_use_to_diag_years  \n",
       "0                      -3  \n",
       "1                       3  \n",
       "2                       3  "
      ],
      "text/html": "<div>\n<style scoped>\n    .dataframe tbody tr th:only-of-type {\n        vertical-align: middle;\n    }\n\n    .dataframe tbody tr th {\n        vertical-align: top;\n    }\n\n    .dataframe thead th {\n        text-align: right;\n    }\n</style>\n<table border=\"1\" class=\"dataframe\">\n  <thead>\n    <tr style=\"text-align: right;\">\n      <th></th>\n      <th>index</th>\n      <th>SubjectId</th>\n      <th>Firm</th>\n      <th>Cancer_Type</th>\n      <th>retailer</th>\n      <th>diagnosis_date</th>\n      <th>birth_year</th>\n      <th>first_use_year</th>\n      <th>last_use_year</th>\n      <th>deceased</th>\n      <th>age</th>\n      <th>total_use_years</th>\n      <th>age_first_use</th>\n      <th>first_use_to_diag_years</th>\n      <th>last_use_to_diag_years</th>\n    </tr>\n  </thead>\n  <tbody>\n    <tr>\n      <th>0</th>\n      <td>0</td>\n      <td>803046</td>\n      <td>Moreno, Johnson and Cochran</td>\n      <td>Prostate</td>\n      <td>Walmart</td>\n      <td>2009-05-21</td>\n      <td>1930</td>\n      <td>1994</td>\n      <td>2020</td>\n      <td>Living</td>\n      <td>73</td>\n      <td>26</td>\n      <td>47</td>\n      <td>23</td>\n      <td>-3</td>\n    </tr>\n    <tr>\n      <th>1</th>\n      <td>1</td>\n      <td>370364</td>\n      <td>Moreno, Johnson and Cochran</td>\n      <td>Breast</td>\n      <td>Walmart</td>\n      <td>1995-04-05</td>\n      <td>1918</td>\n      <td>1998</td>\n      <td>2015</td>\n      <td>Living</td>\n      <td>52</td>\n      <td>17</td>\n      <td>29</td>\n      <td>20</td>\n      <td>3</td>\n    </tr>\n    <tr>\n      <th>2</th>\n      <td>1</td>\n      <td>370364</td>\n      <td>Moreno, Johnson and Cochran</td>\n      <td>Breast</td>\n      <td>Medicine_Shoppe</td>\n      <td>1995-04-05</td>\n      <td>1918</td>\n      <td>1998</td>\n      <td>2015</td>\n      <td>Living</td>\n      <td>52</td>\n      <td>17</td>\n      <td>29</td>\n      <td>20</td>\n      <td>3</td>\n    </tr>\n  </tbody>\n</table>\n</div>"
     },
     "metadata": {},
     "execution_count": 22
    }
   ],
   "source": [
    "df.head(3)"
   ]
  },
  {
   "cell_type": "code",
   "execution_count": 31,
   "metadata": {},
   "outputs": [
    {
     "output_type": "execute_result",
     "data": {
      "text/plain": [
       "  SubjectId        Firm deceased  age  total_use_years  age_first_use  \\\n",
       "0    392860  Bender LLC   Living   66               28             34   \n",
       "1    392860  Bender LLC   Living   66               28             34   \n",
       "2    392860  Bender LLC   Living   66               28             34   \n",
       "3    392860  Bender LLC   Living   66               28             34   \n",
       "4    392860  Bender LLC   Living   66               28             34   \n",
       "\n",
       "  Product_Type  Year  tot_use_years  \n",
       "0     Flu Shot  1998             28  \n",
       "1     Flu Shot  1999             28  \n",
       "2     Flu Shot  2000             28  \n",
       "3     Flu Shot  2001             28  \n",
       "4     Flu Shot  2002             28  "
      ],
      "text/html": "<div>\n<style scoped>\n    .dataframe tbody tr th:only-of-type {\n        vertical-align: middle;\n    }\n\n    .dataframe tbody tr th {\n        vertical-align: top;\n    }\n\n    .dataframe thead th {\n        text-align: right;\n    }\n</style>\n<table border=\"1\" class=\"dataframe\">\n  <thead>\n    <tr style=\"text-align: right;\">\n      <th></th>\n      <th>SubjectId</th>\n      <th>Firm</th>\n      <th>deceased</th>\n      <th>age</th>\n      <th>total_use_years</th>\n      <th>age_first_use</th>\n      <th>Product_Type</th>\n      <th>Year</th>\n      <th>tot_use_years</th>\n    </tr>\n  </thead>\n  <tbody>\n    <tr>\n      <th>0</th>\n      <td>392860</td>\n      <td>Bender LLC</td>\n      <td>Living</td>\n      <td>66</td>\n      <td>28</td>\n      <td>34</td>\n      <td>Flu Shot</td>\n      <td>1998</td>\n      <td>28</td>\n    </tr>\n    <tr>\n      <th>1</th>\n      <td>392860</td>\n      <td>Bender LLC</td>\n      <td>Living</td>\n      <td>66</td>\n      <td>28</td>\n      <td>34</td>\n      <td>Flu Shot</td>\n      <td>1999</td>\n      <td>28</td>\n    </tr>\n    <tr>\n      <th>2</th>\n      <td>392860</td>\n      <td>Bender LLC</td>\n      <td>Living</td>\n      <td>66</td>\n      <td>28</td>\n      <td>34</td>\n      <td>Flu Shot</td>\n      <td>2000</td>\n      <td>28</td>\n    </tr>\n    <tr>\n      <th>3</th>\n      <td>392860</td>\n      <td>Bender LLC</td>\n      <td>Living</td>\n      <td>66</td>\n      <td>28</td>\n      <td>34</td>\n      <td>Flu Shot</td>\n      <td>2001</td>\n      <td>28</td>\n    </tr>\n    <tr>\n      <th>4</th>\n      <td>392860</td>\n      <td>Bender LLC</td>\n      <td>Living</td>\n      <td>66</td>\n      <td>28</td>\n      <td>34</td>\n      <td>Flu Shot</td>\n      <td>2002</td>\n      <td>28</td>\n    </tr>\n  </tbody>\n</table>\n</div>"
     },
     "metadata": {},
     "execution_count": 31
    }
   ],
   "source": [
    "df=pd.read_feather(\"data/prod_data.ftr\")\n",
    "df.head()"
   ]
  },
  {
   "cell_type": "code",
   "execution_count": 32,
   "metadata": {},
   "outputs": [
    {
     "output_type": "execute_result",
     "data": {
      "text/plain": [
       "Empty DataFrame\n",
       "Columns: [SubjectId, Firm, deceased, age, total_use_years, age_first_use, Product_Type, Year, tot_use_years]\n",
       "Index: []"
      ],
      "text/html": "<div>\n<style scoped>\n    .dataframe tbody tr th:only-of-type {\n        vertical-align: middle;\n    }\n\n    .dataframe tbody tr th {\n        vertical-align: top;\n    }\n\n    .dataframe thead th {\n        text-align: right;\n    }\n</style>\n<table border=\"1\" class=\"dataframe\">\n  <thead>\n    <tr style=\"text-align: right;\">\n      <th></th>\n      <th>SubjectId</th>\n      <th>Firm</th>\n      <th>deceased</th>\n      <th>age</th>\n      <th>total_use_years</th>\n      <th>age_first_use</th>\n      <th>Product_Type</th>\n      <th>Year</th>\n      <th>tot_use_years</th>\n    </tr>\n  </thead>\n  <tbody>\n  </tbody>\n</table>\n</div>"
     },
     "metadata": {},
     "execution_count": 32
    }
   ],
   "source": [
    "test = df[df['SubjectId'] == 620907]\n",
    "test"
   ]
  },
  {
   "cell_type": "code",
   "execution_count": null,
   "metadata": {},
   "outputs": [],
   "source": []
  },
  {
   "cell_type": "code",
   "execution_count": null,
   "metadata": {},
   "outputs": [],
   "source": []
  },
  {
   "cell_type": "code",
   "execution_count": 4,
   "metadata": {},
   "outputs": [],
   "source": [
    "cat_lst = ['Firm', 'Cancer_Type', 'retailer']\n",
    "for i in cat_lst:\n",
    "    df[i] = df[i].astype('category')"
   ]
  },
  {
   "cell_type": "code",
   "execution_count": 5,
   "metadata": {},
   "outputs": [
    {
     "output_type": "stream",
     "name": "stdout",
     "text": [
      "<class 'pandas.core.frame.DataFrame'>\nInt64Index: 510263 entries, 0 to 124255\nData columns (total 14 columns):\n #   Column                   Non-Null Count   Dtype         \n---  ------                   --------------   -----         \n 0   SubjectId                510263 non-null  int64         \n 1   Firm                     510263 non-null  category      \n 2   Cancer_Type              510263 non-null  category      \n 3   retailer                 206288 non-null  category      \n 4   diagnosis_date           510173 non-null  datetime64[ns]\n 5   birth_year               510263 non-null  int64         \n 6   first_use_year           510263 non-null  int64         \n 7   last_use_year            510263 non-null  int16         \n 8   deceased                 510026 non-null  category      \n 9   age                      510263 non-null  int16         \n 10  total_use_years          510263 non-null  int16         \n 11  age_first_use            510263 non-null  int16         \n 12  first_use_to_diag_years  510247 non-null  float64       \n 13  last_use_to_diag_years   510247 non-null  float64       \ndtypes: category(4), datetime64[ns](1), float64(2), int16(4), int64(3)\nmemory usage: 41.7 MB\n"
     ]
    }
   ],
   "source": [
    "df.info()"
   ]
  },
  {
   "cell_type": "code",
   "execution_count": 22,
   "metadata": {},
   "outputs": [
    {
     "output_type": "execute_result",
     "data": {
      "text/plain": [
       "Index                      12536288\n",
       "SubjectId                   4082104\n",
       "Firm                        1030902\n",
       "Cancer_Type                  511003\n",
       "retailer                     510971\n",
       "diagnosis_date              4082104\n",
       "birth_year                  1020526\n",
       "first_use_year              1020526\n",
       "last_use_year               1020526\n",
       "deceased                     510387\n",
       "age                          510263\n",
       "total_use_years              510263\n",
       "age_first_use                510263\n",
       "first_use_to_diag_years     4082104\n",
       "last_use_to_diag_years      4082104\n",
       "dtype: int64"
      ]
     },
     "metadata": {},
     "execution_count": 22
    }
   ],
   "source": [
    "df.memory_usage()"
   ]
  },
  {
   "cell_type": "code",
   "execution_count": 12,
   "metadata": {},
   "outputs": [
    {
     "output_type": "execute_result",
     "data": {
      "text/plain": [
       " 3.0       24866\n",
       " 4.0       23748\n",
       " 2.0       23264\n",
       " 5.0       22226\n",
       " 10.0      20965\n",
       "           ...  \n",
       " 1997.0        1\n",
       " 1993.0        1\n",
       " 58.0          1\n",
       " 1999.0        1\n",
       "-184.0         1\n",
       "Name: first_use_to_diag_years, Length: 150, dtype: int64"
      ]
     },
     "metadata": {},
     "execution_count": 12
    }
   ],
   "source": [
    "df['first_use_to_diag_years'].value_counts()"
   ]
  },
  {
   "cell_type": "code",
   "execution_count": 30,
   "metadata": {},
   "outputs": [],
   "source": [
    "df.first_use_to_diag_years.fillna(0, inplace=True)\n",
    "df.last_use_to_diag_years.fillna(0, inplace=True)\n"
   ]
  },
  {
   "cell_type": "code",
   "execution_count": 31,
   "metadata": {},
   "outputs": [],
   "source": [
    "int8_lst = ['first_use_to_diag_years', 'last_use_to_diag_years']\n",
    "for i in int8_lst:\n",
    "    df[i] = df[i].astype('int8')\n",
    "    # df[i].fillna(0)"
   ]
  },
  {
   "cell_type": "code",
   "execution_count": 32,
   "metadata": {},
   "outputs": [
    {
     "output_type": "stream",
     "name": "stdout",
     "text": [
      "<class 'pandas.core.frame.DataFrame'>\nInt64Index: 510263 entries, 0 to 124255\nData columns (total 14 columns):\n #   Column                   Non-Null Count   Dtype         \n---  ------                   --------------   -----         \n 0   SubjectId                510263 non-null  object        \n 1   Firm                     510263 non-null  category      \n 2   Cancer_Type              510263 non-null  category      \n 3   retailer                 206288 non-null  category      \n 4   diagnosis_date           510173 non-null  datetime64[ns]\n 5   birth_year               510263 non-null  int16         \n 6   first_use_year           510263 non-null  int16         \n 7   last_use_year            510263 non-null  int16         \n 8   deceased                 510026 non-null  category      \n 9   age                      510263 non-null  int8          \n 10  total_use_years          510263 non-null  int8          \n 11  age_first_use            510263 non-null  int8          \n 12  first_use_to_diag_years  510263 non-null  int8          \n 13  last_use_to_diag_years   510263 non-null  int8          \ndtypes: category(4), datetime64[ns](1), int16(3), int8(5), object(1)\nmemory usage: 27.5+ MB\n"
     ]
    }
   ],
   "source": [
    "df.info()"
   ]
  },
  {
   "cell_type": "code",
   "execution_count": 47,
   "metadata": {},
   "outputs": [],
   "source": [
    "df.to_pickle(\"data/cancer.pkl\")"
   ]
  },
  {
   "cell_type": "code",
   "execution_count": 48,
   "metadata": {},
   "outputs": [],
   "source": [
    "import feather\n",
    "df.reset_index().to_feather(\"data/cancer.ftr\")"
   ]
  },
  {
   "cell_type": "code",
   "execution_count": 51,
   "metadata": {},
   "outputs": [],
   "source": [
    "feather_test = pd.read_feather(\"data/cancer.ftr\", columns=None).set_index(['SubjectId'])\n",
    "feather_test.drop(columns=['index'], inplace=True)"
   ]
  },
  {
   "source": [
    "# Reducing memory size of the master usage file\n"
   ],
   "cell_type": "markdown",
   "metadata": {}
  },
  {
   "cell_type": "code",
   "execution_count": 119,
   "metadata": {},
   "outputs": [],
   "source": [
    "df = pd.read_pickle(\"data/master_usage.pkl\")\n",
    "# df.head()"
   ]
  },
  {
   "cell_type": "code",
   "execution_count": 121,
   "metadata": {},
   "outputs": [],
   "source": [
    "df.deceased = df.deceased.astype('str')\n",
    "df.deceased.fillna('none', inplace=True)\n",
    "df.state_cur_ab = df.state_cur_ab.astype('str').fillna('none').astype('category')\n",
    "df.state_use_ab = df.state_use_ab.astype('str').fillna('none').astype('category')"
   ]
  },
  {
   "cell_type": "code",
   "execution_count": 122,
   "metadata": {},
   "outputs": [],
   "source": [
    "cat_lst = ['Firm', 'admin_method', 'state_cur_ab', 'state_use_ab', 'retailers', 'deceased']\n",
    "for i in cat_lst:\n",
    "    df[i] = df[i].astype('category')"
   ]
  },
  {
   "cell_type": "code",
   "execution_count": 126,
   "metadata": {},
   "outputs": [
    {
     "output_type": "stream",
     "name": "stdout",
     "text": [
      "<class 'pandas.core.frame.DataFrame'>\nInt64Index: 191144 entries, 0 to 191206\nData columns (total 16 columns):\n #   Column           Non-Null Count   Dtype   \n---  ------           --------------   -----   \n 0   SubjectId        191144 non-null  int64   \n 1   Firm             191144 non-null  category\n 2   deceased         191144 non-null  category\n 3   age              191144 non-null  int8    \n 4   total_use_years  191144 non-null  int8    \n 5   age_first_use    191144 non-null  int8    \n 6   formulation      191144 non-null  category\n 7   use_years        191144 non-null  object  \n 8   start_yr         191144 non-null  int16   \n 9   end_yr           191144 non-null  int16   \n 10  use_years_lst    191144 non-null  object  \n 11  dosage           191144 non-null  object  \n 12  admin_method     191144 non-null  category\n 13  state_cur_ab     191144 non-null  category\n 14  state_use_ab     191144 non-null  category\n 15  retailers        191144 non-null  category\ndtypes: category(7), int16(2), int64(1), int8(3), object(3)\nmemory usage: 15.9+ MB\n"
     ]
    }
   ],
   "source": [
    "df.info()"
   ]
  },
  {
   "cell_type": "code",
   "execution_count": 124,
   "metadata": {},
   "outputs": [],
   "source": [
    "cat_lst = ['Firm', 'formulation', 'retailers', 'state_cur_ab', 'state_use_ab', 'admin_method']\n",
    "for i in cat_lst:\n",
    "    df[i] = df[i].astype('category')"
   ]
  },
  {
   "cell_type": "code",
   "execution_count": 125,
   "metadata": {},
   "outputs": [],
   "source": [
    "int8_lst = ['age', 'total_use_years', 'age_first_use']\n",
    "for i in int8_lst:\n",
    "    df[i] = df[i].astype('int8')\n",
    "int16_lst = ['start_yr', 'end_yr']\n",
    "for i in int16_lst:\n",
    "    df[i] = df[i].astype('int16')"
   ]
  },
  {
   "cell_type": "code",
   "execution_count": 127,
   "metadata": {},
   "outputs": [],
   "source": [
    "df = df[df['deceased'] != \"\"]"
   ]
  },
  {
   "cell_type": "code",
   "execution_count": 128,
   "metadata": {},
   "outputs": [],
   "source": [
    "df.to_pickle(\"data/master_usage.pkl\")"
   ]
  },
  {
   "cell_type": "code",
   "execution_count": 129,
   "metadata": {},
   "outputs": [],
   "source": [
    "df.reset_index().to_feather(\"data/master_usage.ftr\")"
   ]
  },
  {
   "source": [
    "# reducing the prod_data pickle file"
   ],
   "cell_type": "markdown",
   "metadata": {}
  },
  {
   "cell_type": "code",
   "execution_count": 136,
   "metadata": {},
   "outputs": [
    {
     "output_type": "stream",
     "name": "stdout",
     "text": [
      "<class 'pandas.core.frame.DataFrame'>\nInt64Index: 2199349 entries, 0 to 2199348\nData columns (total 9 columns):\n #   Column           Dtype   \n---  ------           -----   \n 0   SubjectId        int64   \n 1   Firm             category\n 2   deceased         category\n 3   age              int8    \n 4   total_use_years  int8    \n 5   age_first_use    int8    \n 6   Product_Type     category\n 7   Year             int16   \n 8   tot_use_years    int16   \ndtypes: category(3), int16(2), int64(1), int8(3)\nmemory usage: 56.6 MB\n"
     ]
    }
   ],
   "source": [
    "df = pd.read_pickle(\"data/prod_data.pkl\")\n",
    "df.Firm = df.Firm.astype('category')\n",
    "df.info()"
   ]
  },
  {
   "cell_type": "code",
   "execution_count": 137,
   "metadata": {},
   "outputs": [],
   "source": [
    "df.reset_index().to_feather(\"data/prod_data.ftr\")"
   ]
  },
  {
   "cell_type": "code",
   "execution_count": 138,
   "metadata": {},
   "outputs": [
    {
     "output_type": "execute_result",
     "data": {
      "text/plain": [
       "  SubjectId deceased                formulation use_years  dosage admin_method\n",
       "0    437338   Living  Zantac Tablets & Capsules      1994   Other          OTC\n",
       "0    437338   Living  Zantac Tablets & Capsules      2020   Other          OTC\n",
       "1    437339   Living  Zantac Tablets & Capsules      1998  150_mg         Both\n",
       "1    437339   Living  Zantac Tablets & Capsules      2015  150_mg         Both\n",
       "2    437339   Living  Zantac Tablets & Capsules      1998  150_mg         Both"
      ],
      "text/html": "<div>\n<style scoped>\n    .dataframe tbody tr th:only-of-type {\n        vertical-align: middle;\n    }\n\n    .dataframe tbody tr th {\n        vertical-align: top;\n    }\n\n    .dataframe thead th {\n        text-align: right;\n    }\n</style>\n<table border=\"1\" class=\"dataframe\">\n  <thead>\n    <tr style=\"text-align: right;\">\n      <th></th>\n      <th>SubjectId</th>\n      <th>deceased</th>\n      <th>formulation</th>\n      <th>use_years</th>\n      <th>dosage</th>\n      <th>admin_method</th>\n    </tr>\n  </thead>\n  <tbody>\n    <tr>\n      <th>0</th>\n      <td>437338</td>\n      <td>Living</td>\n      <td>Zantac Tablets &amp; Capsules</td>\n      <td>1994</td>\n      <td>Other</td>\n      <td>OTC</td>\n    </tr>\n    <tr>\n      <th>0</th>\n      <td>437338</td>\n      <td>Living</td>\n      <td>Zantac Tablets &amp; Capsules</td>\n      <td>2020</td>\n      <td>Other</td>\n      <td>OTC</td>\n    </tr>\n    <tr>\n      <th>1</th>\n      <td>437339</td>\n      <td>Living</td>\n      <td>Zantac Tablets &amp; Capsules</td>\n      <td>1998</td>\n      <td>150_mg</td>\n      <td>Both</td>\n    </tr>\n    <tr>\n      <th>1</th>\n      <td>437339</td>\n      <td>Living</td>\n      <td>Zantac Tablets &amp; Capsules</td>\n      <td>2015</td>\n      <td>150_mg</td>\n      <td>Both</td>\n    </tr>\n    <tr>\n      <th>2</th>\n      <td>437339</td>\n      <td>Living</td>\n      <td>Zantac Tablets &amp; Capsules</td>\n      <td>1998</td>\n      <td>150_mg</td>\n      <td>Both</td>\n    </tr>\n  </tbody>\n</table>\n</div>"
     },
     "metadata": {},
     "execution_count": 138
    }
   ],
   "source": [
    "# Reducing use over time pickle\n",
    "df= pd.read_pickle(\"/Users/johntaylor/cloud_upload/data/use_over_time.pkl\")\n",
    "df.head()"
   ]
  },
  {
   "cell_type": "code",
   "execution_count": 141,
   "metadata": {},
   "outputs": [
    {
     "output_type": "stream",
     "name": "stdout",
     "text": [
      "<class 'pandas.core.frame.DataFrame'>\nInt64Index: 380677 entries, 0 to 190825\nData columns (total 6 columns):\n #   Column        Non-Null Count   Dtype   \n---  ------        --------------   -----   \n 0   SubjectId     380677 non-null  object  \n 1   deceased      380573 non-null  category\n 2   formulation   380677 non-null  category\n 3   use_years     380677 non-null  int16   \n 4   dosage        380677 non-null  object  \n 5   admin_method  380677 non-null  category\ndtypes: category(3), int16(1), object(2)\nmemory usage: 18.6+ MB\n"
     ]
    }
   ],
   "source": [
    "df.info()"
   ]
  },
  {
   "cell_type": "code",
   "execution_count": 140,
   "metadata": {},
   "outputs": [],
   "source": [
    "df.use_years = df.use_years.astype('int16')"
   ]
  },
  {
   "cell_type": "code",
   "execution_count": 142,
   "metadata": {},
   "outputs": [],
   "source": [
    "df.reset_index().to_feather(\"data/use_over_time.ftr\")"
   ]
  },
  {
   "cell_type": "code",
   "execution_count": 145,
   "metadata": {},
   "outputs": [
    {
     "output_type": "execute_result",
     "data": {
      "text/plain": [
       "  SubjectId deceased                formulation  use_years  dosage  \\\n",
       "0    437338   Living  Zantac Tablets & Capsules       1994   Other   \n",
       "1    437338   Living  Zantac Tablets & Capsules       2020   Other   \n",
       "2    437339   Living  Zantac Tablets & Capsules       1998  150_mg   \n",
       "3    437339   Living  Zantac Tablets & Capsules       2015  150_mg   \n",
       "4    437339   Living  Zantac Tablets & Capsules       1998  150_mg   \n",
       "\n",
       "  admin_method  \n",
       "0          OTC  \n",
       "1          OTC  \n",
       "2         Both  \n",
       "3         Both  \n",
       "4         Both  "
      ],
      "text/html": "<div>\n<style scoped>\n    .dataframe tbody tr th:only-of-type {\n        vertical-align: middle;\n    }\n\n    .dataframe tbody tr th {\n        vertical-align: top;\n    }\n\n    .dataframe thead th {\n        text-align: right;\n    }\n</style>\n<table border=\"1\" class=\"dataframe\">\n  <thead>\n    <tr style=\"text-align: right;\">\n      <th></th>\n      <th>SubjectId</th>\n      <th>deceased</th>\n      <th>formulation</th>\n      <th>use_years</th>\n      <th>dosage</th>\n      <th>admin_method</th>\n    </tr>\n  </thead>\n  <tbody>\n    <tr>\n      <th>0</th>\n      <td>437338</td>\n      <td>Living</td>\n      <td>Zantac Tablets &amp; Capsules</td>\n      <td>1994</td>\n      <td>Other</td>\n      <td>OTC</td>\n    </tr>\n    <tr>\n      <th>1</th>\n      <td>437338</td>\n      <td>Living</td>\n      <td>Zantac Tablets &amp; Capsules</td>\n      <td>2020</td>\n      <td>Other</td>\n      <td>OTC</td>\n    </tr>\n    <tr>\n      <th>2</th>\n      <td>437339</td>\n      <td>Living</td>\n      <td>Zantac Tablets &amp; Capsules</td>\n      <td>1998</td>\n      <td>150_mg</td>\n      <td>Both</td>\n    </tr>\n    <tr>\n      <th>3</th>\n      <td>437339</td>\n      <td>Living</td>\n      <td>Zantac Tablets &amp; Capsules</td>\n      <td>2015</td>\n      <td>150_mg</td>\n      <td>Both</td>\n    </tr>\n    <tr>\n      <th>4</th>\n      <td>437339</td>\n      <td>Living</td>\n      <td>Zantac Tablets &amp; Capsules</td>\n      <td>1998</td>\n      <td>150_mg</td>\n      <td>Both</td>\n    </tr>\n  </tbody>\n</table>\n</div>"
     },
     "metadata": {},
     "execution_count": 145
    }
   ],
   "source": [
    "df = pd.read_feather(\"data/use_over_time.ftr\", columns=None).set_index(['SubjectId'])\n",
    "df.drop(columns=['index'], inplace=True)\n",
    "df.reset_index(inplace=True)\n",
    "df.head()"
   ]
  },
  {
   "source": [
    "### Fixing the formulation names in the usage over time feather file"
   ],
   "cell_type": "markdown",
   "metadata": {}
  },
  {
   "cell_type": "code",
   "execution_count": 3,
   "metadata": {},
   "outputs": [
    {
     "output_type": "execute_result",
     "data": {
      "text/plain": [
       "          deceased                formulation  use_years  dosage admin_method\n",
       "SubjectId                                                                    \n",
       "437338      Living  Zantac Tablets & Capsules       1994   Other          OTC\n",
       "437338      Living  Zantac Tablets & Capsules       2020   Other          OTC\n",
       "437339      Living  Zantac Tablets & Capsules       1998  150_mg         Both\n",
       "437339      Living  Zantac Tablets & Capsules       2015  150_mg         Both\n",
       "437339      Living  Zantac Tablets & Capsules       1998  150_mg         Both"
      ],
      "text/html": "<div>\n<style scoped>\n    .dataframe tbody tr th:only-of-type {\n        vertical-align: middle;\n    }\n\n    .dataframe tbody tr th {\n        vertical-align: top;\n    }\n\n    .dataframe thead th {\n        text-align: right;\n    }\n</style>\n<table border=\"1\" class=\"dataframe\">\n  <thead>\n    <tr style=\"text-align: right;\">\n      <th></th>\n      <th>deceased</th>\n      <th>formulation</th>\n      <th>use_years</th>\n      <th>dosage</th>\n      <th>admin_method</th>\n    </tr>\n    <tr>\n      <th>SubjectId</th>\n      <th></th>\n      <th></th>\n      <th></th>\n      <th></th>\n      <th></th>\n    </tr>\n  </thead>\n  <tbody>\n    <tr>\n      <th>437338</th>\n      <td>Living</td>\n      <td>Zantac Tablets &amp; Capsules</td>\n      <td>1994</td>\n      <td>Other</td>\n      <td>OTC</td>\n    </tr>\n    <tr>\n      <th>437338</th>\n      <td>Living</td>\n      <td>Zantac Tablets &amp; Capsules</td>\n      <td>2020</td>\n      <td>Other</td>\n      <td>OTC</td>\n    </tr>\n    <tr>\n      <th>437339</th>\n      <td>Living</td>\n      <td>Zantac Tablets &amp; Capsules</td>\n      <td>1998</td>\n      <td>150_mg</td>\n      <td>Both</td>\n    </tr>\n    <tr>\n      <th>437339</th>\n      <td>Living</td>\n      <td>Zantac Tablets &amp; Capsules</td>\n      <td>2015</td>\n      <td>150_mg</td>\n      <td>Both</td>\n    </tr>\n    <tr>\n      <th>437339</th>\n      <td>Living</td>\n      <td>Zantac Tablets &amp; Capsules</td>\n      <td>1998</td>\n      <td>150_mg</td>\n      <td>Both</td>\n    </tr>\n  </tbody>\n</table>\n</div>"
     },
     "metadata": {},
     "execution_count": 3
    }
   ],
   "source": [
    "df = pd.read_feather(\"data/use_over_time.ftr\", columns=None).set_index(['SubjectId'])\n",
    "df.drop(columns=['index'], inplace=True)\n",
    "df.head()"
   ]
  },
  {
   "cell_type": "code",
   "execution_count": 5,
   "metadata": {},
   "outputs": [
    {
     "output_type": "execute_result",
     "data": {
      "text/plain": [
       "['Zantac Syrup',\n",
       " 'Other',\n",
       " 'Zantac Tablets & Capsules',\n",
       " 'Ranitidine Tablets & Capsules',\n",
       " 'Ranitidine Suspension',\n",
       " 'Ranitidine Syrup',\n",
       " 'Zantac Injection',\n",
       " 'Ranitidine Injection']"
      ]
     },
     "metadata": {},
     "execution_count": 5
    }
   ],
   "source": [
    "form_lst = list(set(df.formulation))\n",
    "form_lst"
   ]
  },
  {
   "cell_type": "code",
   "execution_count": 6,
   "metadata": {},
   "outputs": [],
   "source": [
    "new_form_lst = ['Candy Bar', 'Flagyl','Flu Shot','Gummie Bears','Ibuprofen','Levothyroxine','Metronidazole','Tylenol']\n",
    "\n",
    "form_dict = dict(zip(form_lst, new_form_lst))"
   ]
  },
  {
   "cell_type": "code",
   "execution_count": 7,
   "metadata": {},
   "outputs": [],
   "source": [
    "df.formulation = df.formulation.map(form_dict)"
   ]
  },
  {
   "cell_type": "code",
   "execution_count": 10,
   "metadata": {},
   "outputs": [],
   "source": [
    "admin_lst = list(set(df.admin_method))\n",
    "new_admins = ['friend', 'neighbor', 'doctor']\n",
    "admin_dict = dict(zip(admin_lst, new_admins))\n",
    "df.admin_method = df.admin_method.map(admin_dict)\n"
   ]
  },
  {
   "cell_type": "code",
   "execution_count": 11,
   "metadata": {},
   "outputs": [
    {
     "output_type": "execute_result",
     "data": {
      "text/plain": [
       "          deceased formulation  use_years  dosage admin_method\n",
       "SubjectId                                                     \n",
       "437338      Living    Flu Shot       1994   Other       doctor\n",
       "437338      Living    Flu Shot       2020   Other       doctor\n",
       "437339      Living    Flu Shot       1998  150_mg       friend\n",
       "437339      Living    Flu Shot       2015  150_mg       friend\n",
       "437339      Living    Flu Shot       1998  150_mg       friend"
      ],
      "text/html": "<div>\n<style scoped>\n    .dataframe tbody tr th:only-of-type {\n        vertical-align: middle;\n    }\n\n    .dataframe tbody tr th {\n        vertical-align: top;\n    }\n\n    .dataframe thead th {\n        text-align: right;\n    }\n</style>\n<table border=\"1\" class=\"dataframe\">\n  <thead>\n    <tr style=\"text-align: right;\">\n      <th></th>\n      <th>deceased</th>\n      <th>formulation</th>\n      <th>use_years</th>\n      <th>dosage</th>\n      <th>admin_method</th>\n    </tr>\n    <tr>\n      <th>SubjectId</th>\n      <th></th>\n      <th></th>\n      <th></th>\n      <th></th>\n      <th></th>\n    </tr>\n  </thead>\n  <tbody>\n    <tr>\n      <th>437338</th>\n      <td>Living</td>\n      <td>Flu Shot</td>\n      <td>1994</td>\n      <td>Other</td>\n      <td>doctor</td>\n    </tr>\n    <tr>\n      <th>437338</th>\n      <td>Living</td>\n      <td>Flu Shot</td>\n      <td>2020</td>\n      <td>Other</td>\n      <td>doctor</td>\n    </tr>\n    <tr>\n      <th>437339</th>\n      <td>Living</td>\n      <td>Flu Shot</td>\n      <td>1998</td>\n      <td>150_mg</td>\n      <td>friend</td>\n    </tr>\n    <tr>\n      <th>437339</th>\n      <td>Living</td>\n      <td>Flu Shot</td>\n      <td>2015</td>\n      <td>150_mg</td>\n      <td>friend</td>\n    </tr>\n    <tr>\n      <th>437339</th>\n      <td>Living</td>\n      <td>Flu Shot</td>\n      <td>1998</td>\n      <td>150_mg</td>\n      <td>friend</td>\n    </tr>\n  </tbody>\n</table>\n</div>"
     },
     "metadata": {},
     "execution_count": 11
    }
   ],
   "source": [
    "df.head()"
   ]
  },
  {
   "cell_type": "code",
   "execution_count": 12,
   "metadata": {},
   "outputs": [],
   "source": [
    "df.reset_index().to_feather(\"data/use_over_time.ftr\")"
   ]
  },
  {
   "cell_type": "code",
   "execution_count": 14,
   "metadata": {},
   "outputs": [
    {
     "output_type": "execute_result",
     "data": {
      "text/plain": [
       "  SubjectId deceased formulation  use_years  dosage admin_method\n",
       "0    437338   Living    Flu Shot       1994   Other       doctor\n",
       "1    437338   Living    Flu Shot       2020   Other       doctor\n",
       "2    437339   Living    Flu Shot       1998  150_mg       friend\n",
       "3    437339   Living    Flu Shot       2015  150_mg       friend\n",
       "4    437339   Living    Flu Shot       1998  150_mg       friend"
      ],
      "text/html": "<div>\n<style scoped>\n    .dataframe tbody tr th:only-of-type {\n        vertical-align: middle;\n    }\n\n    .dataframe tbody tr th {\n        vertical-align: top;\n    }\n\n    .dataframe thead th {\n        text-align: right;\n    }\n</style>\n<table border=\"1\" class=\"dataframe\">\n  <thead>\n    <tr style=\"text-align: right;\">\n      <th></th>\n      <th>SubjectId</th>\n      <th>deceased</th>\n      <th>formulation</th>\n      <th>use_years</th>\n      <th>dosage</th>\n      <th>admin_method</th>\n    </tr>\n  </thead>\n  <tbody>\n    <tr>\n      <th>0</th>\n      <td>437338</td>\n      <td>Living</td>\n      <td>Flu Shot</td>\n      <td>1994</td>\n      <td>Other</td>\n      <td>doctor</td>\n    </tr>\n    <tr>\n      <th>1</th>\n      <td>437338</td>\n      <td>Living</td>\n      <td>Flu Shot</td>\n      <td>2020</td>\n      <td>Other</td>\n      <td>doctor</td>\n    </tr>\n    <tr>\n      <th>2</th>\n      <td>437339</td>\n      <td>Living</td>\n      <td>Flu Shot</td>\n      <td>1998</td>\n      <td>150_mg</td>\n      <td>friend</td>\n    </tr>\n    <tr>\n      <th>3</th>\n      <td>437339</td>\n      <td>Living</td>\n      <td>Flu Shot</td>\n      <td>2015</td>\n      <td>150_mg</td>\n      <td>friend</td>\n    </tr>\n    <tr>\n      <th>4</th>\n      <td>437339</td>\n      <td>Living</td>\n      <td>Flu Shot</td>\n      <td>1998</td>\n      <td>150_mg</td>\n      <td>friend</td>\n    </tr>\n  </tbody>\n</table>\n</div>"
     },
     "metadata": {},
     "execution_count": 14
    }
   ],
   "source": [
    "df = pd.read_feather(\"data/use_over_time.ftr\", columns=None)\n",
    "df.head()"
   ]
  },
  {
   "cell_type": "code",
   "execution_count": null,
   "metadata": {},
   "outputs": [],
   "source": []
  }
 ]
}